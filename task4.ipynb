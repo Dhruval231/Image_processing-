{
 "cells": [
  {
   "cell_type": "code",
   "execution_count": 8,
   "id": "947f229e",
   "metadata": {},
   "outputs": [],
   "source": [
    "import cv2\n",
    "import numpy"
   ]
  },
  {
   "cell_type": "code",
   "execution_count": 9,
   "id": "43ae47ab",
   "metadata": {},
   "outputs": [],
   "source": [
    "#task 4.1 - create your own image "
   ]
  },
  {
   "cell_type": "code",
   "execution_count": 10,
   "id": "6a6a2bc3",
   "metadata": {},
   "outputs": [],
   "source": [
    "#created on blank image with numpy\n",
    "\n",
    "image = numpy.zeros((800,1500,3), numpy.uint8)\n",
    "cv2.imshow('image', image)\n",
    "cv2.waitKey()\n",
    "cv2.destroyAllWindows()  "
   ]
  },
  {
   "cell_type": "code",
   "execution_count": 11,
   "id": "73d96348",
   "metadata": {},
   "outputs": [],
   "source": [
    "#ellipse is used for creating a semi-circles/layers of diff. colors for the rainbow image\n",
    "#cv2.ellipse(img, center, axes, angle, startAngle, endAngle, color[, thickness[ )\n",
    "#thickness is taken negative bcoz it's fill the layer with color,\n",
    "#otherwise if positive thickness is given then it creates outlines \n",
    "\n",
    "red = cv2.ellipse(image, (750,750), (560,560), 180, 0, 180, [0, 0, 255], -2 )\n",
    "cv2.imshow('image', image)\n",
    "cv2.waitKey()\n",
    "cv2.destroyAllWindows()                                                                            "
   ]
  },
  {
   "cell_type": "code",
   "execution_count": 12,
   "id": "93ab25e9",
   "metadata": {},
   "outputs": [],
   "source": [
    "#created second layer of orange color above red color layer.\n",
    "\n",
    "orange = cv2.ellipse(image, (750,750), (490,490), 180, 0, 180, [0, 127, 255], -2 ) \n",
    "cv2.imshow('image', image)\n",
    "cv2.waitKey()\n",
    "cv2.destroyAllWindows() "
   ]
  },
  {
   "cell_type": "code",
   "execution_count": 13,
   "id": "39626f4d",
   "metadata": {},
   "outputs": [],
   "source": [
    "#likewise, i added all other layer one-by-one\n",
    "\n",
    "yellow = cv2.ellipse(image, (750,750), (420,420), 180, 0, 180, [0, 255, 255], -2 ) \n",
    "green = cv2.ellipse(image, (750,750), (350,350), 180, 0, 180, [0, 255, 0], -2 ) \n",
    "blue = cv2.ellipse(image, (750,750), (280,280), 180, 0, 180, [255, 0, 0], -2 ) \n",
    "indigo = cv2.ellipse(image, (750,750), (210,210), 180, 0, 180, [130, 0, 75], -2 )                                                                               \n",
    "violet = cv2.ellipse(image, (750,750), (140,140), 180, 0, 180, [211, 0, 148], -2 )\n",
    "\n",
    "#obviously black color is not there in rainbow but it help to make some shape like rainbow, that's why i take it.\n",
    "black = cv2.ellipse(image, (750,750), (70,70), 180, 0, 180, [0, 0, 0], -2 )"
   ]
  },
  {
   "cell_type": "code",
   "execution_count": 14,
   "id": "07bff638",
   "metadata": {},
   "outputs": [],
   "source": [
    "#finally output\n",
    "\n",
    "cv2.imshow('image', image)\n",
    "cv2.waitKey()\n",
    "cv2.destroyAllWindows() "
   ]
  },
  {
   "cell_type": "code",
   "execution_count": null,
   "id": "86f26b68",
   "metadata": {},
   "outputs": [],
   "source": []
  },
  {
   "cell_type": "code",
   "execution_count": 16,
   "id": "d906d338",
   "metadata": {},
   "outputs": [],
   "source": [
    "#task 4.2 - swap the selected areas between 2 images"
   ]
  },
  {
   "cell_type": "code",
   "execution_count": 16,
   "id": "d7394fc6",
   "metadata": {},
   "outputs": [],
   "source": [
    "#Load the first image as pic1 and select the area\n",
    "\n",
    "pic1 = cv2.imread('Monkey.jpg')\n",
    "cv2.rectangle(pic1, (240,240), (530,500), [0,255,0], 3)\n",
    "cv2.imshow('pic', pic1)\n",
    "cv2.waitKey()\n",
    "cv2.destroyAllWindows()\n",
    "pic1 = cv2.imread('Monkey.jpg')"
   ]
  },
  {
   "cell_type": "code",
   "execution_count": 17,
   "id": "fa647d2a",
   "metadata": {},
   "outputs": [],
   "source": [
    "#Now, load 2nd image as pic2 and select same area\n",
    "\n",
    "pic2 = cv2.imread('Monkey 2.jpg')\n",
    "cv2.rectangle(pic2, (240,240), (530,500), [0,0,255], 3)\n",
    "cv2.imshow('pic', pic2)\n",
    "cv2.waitKey()\n",
    "cv2.destroyAllWindows()\n"
   ]
  },
  {
   "cell_type": "code",
   "execution_count": 18,
   "id": "f6eb0b37",
   "metadata": {},
   "outputs": [],
   "source": [
    "#swap the selected area from pic2 to pic1.\n",
    "\n",
    "pic1[240:500, 240:530] = pic2[240:500, 240:530]\n",
    "cv2.imshow('pic', pic1)\n",
    "cv2.waitKey()\n",
    "cv2.destroyAllWindows()\n"
   ]
  },
  {
   "cell_type": "code",
   "execution_count": 20,
   "id": "d14a4811",
   "metadata": {},
   "outputs": [],
   "source": [
    "#take first image again as a pic3, bcoz pic1 is now swapped.\n",
    "\n",
    "pic3 = cv2.imread('Monkey.jpg')\n",
    "cv2.rectangle(pic3, (240,240), (530,500), [0,255,0], 3)\n",
    "\n",
    "pic2 = cv2.imread('Monkey 2.jpg')"
   ]
  },
  {
   "cell_type": "code",
   "execution_count": 21,
   "id": "27b30c1a",
   "metadata": {},
   "outputs": [],
   "source": [
    "#swap the highlighted areas between pic2 and pic3(same as first image)\n",
    "\n",
    "pic2[240:500, 240:530] = pic3[240:500, 240:530]\n",
    "cv2.imshow('pic', pic2)\n",
    "cv2.waitKey()\n",
    "cv2.destroyAllWindows()"
   ]
  },
  {
   "cell_type": "code",
   "execution_count": null,
   "id": "54d05c6a",
   "metadata": {},
   "outputs": [],
   "source": []
  },
  {
   "cell_type": "code",
   "execution_count": 22,
   "id": "3b119088",
   "metadata": {},
   "outputs": [],
   "source": [
    "#task 4.3 - create college of 2 images"
   ]
  },
  {
   "cell_type": "code",
   "execution_count": 19,
   "id": "39e52dda",
   "metadata": {},
   "outputs": [],
   "source": [
    "#load image 1\n",
    "p1 = cv2.imread('ice 1.1.jpg')\n",
    "cv2.imshow('pic', p1)\n",
    "cv2.waitKey()\n",
    "cv2.destroyAllWindows()\n"
   ]
  },
  {
   "cell_type": "code",
   "execution_count": 20,
   "id": "b5925e2b",
   "metadata": {},
   "outputs": [],
   "source": [
    "#load image 2\n",
    "p2 = cv2.imread('ice 2.2.jpg')\n",
    "cv2.imshow('pic', p2)\n",
    "cv2.waitKey()\n",
    "cv2.destroyAllWindows()"
   ]
  },
  {
   "cell_type": "code",
   "execution_count": 21,
   "id": "8aa1bbc7",
   "metadata": {},
   "outputs": [],
   "source": [
    "#combine 2 images vertically using vstack()\n",
    "col1 = numpy.vstack((p1, p2))\n",
    "cv2.imshow('pic', col1)\n",
    "cv2.waitKey()\n",
    "cv2.destroyAllWindows()"
   ]
  },
  {
   "cell_type": "code",
   "execution_count": 22,
   "id": "bb67d226",
   "metadata": {},
   "outputs": [],
   "source": [
    "#load image 3\n",
    "p3 = cv2.imread('icecream 3.3.jpg')\n",
    "cv2.imshow('pic', p3)\n",
    "cv2.waitKey()\n",
    "cv2.destroyAllWindows()"
   ]
  },
  {
   "cell_type": "code",
   "execution_count": null,
   "id": "5cd18592",
   "metadata": {},
   "outputs": [],
   "source": [
    "#combine col1 and p3 horizontally using hstack()\n",
    "col2 = numpy.hstack((col1, p3))\n",
    "cv2.imshow('pic', col2)\n",
    "cv2.waitKey()\n",
    "cv2.destroyAllWindows()"
   ]
  },
  {
   "cell_type": "code",
   "execution_count": null,
   "id": "43a5b650",
   "metadata": {},
   "outputs": [],
   "source": []
  }
 ],
 "metadata": {
  "kernelspec": {
   "display_name": "Python 3",
   "language": "python",
   "name": "python3"
  },
  "language_info": {
   "codemirror_mode": {
    "name": "ipython",
    "version": 3
   },
   "file_extension": ".py",
   "mimetype": "text/x-python",
   "name": "python",
   "nbconvert_exporter": "python",
   "pygments_lexer": "ipython3",
   "version": "3.8.8"
  }
 },
 "nbformat": 4,
 "nbformat_minor": 5
}
